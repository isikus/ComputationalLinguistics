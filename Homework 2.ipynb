{
 "cells": [
  {
   "cell_type": "markdown",
   "metadata": {},
   "source": [
    "# Домашнее задание-2. Грамматика составляющих"
   ]
  },
  {
   "cell_type": "code",
   "execution_count": 2,
   "metadata": {
    "collapsed": true
   },
   "outputs": [],
   "source": [
    "import re\n",
    "import nltk\n",
    "from collections import Counter\n",
    "from nltk.corpus import conll2000\n",
    "conll2000.ensure_loaded()"
   ]
  },
  {
   "cell_type": "markdown",
   "metadata": {},
   "source": [
    "Для начала запишем вывод, который мы хотим получить для данных предложений:"
   ]
  },
  {
   "cell_type": "raw",
   "metadata": {},
   "source": [
    "(S (NP (N Вася)) (VP (V читает) (NP (Det мою) (N книгу))))\n",
    "(S (VP (V напиши) (NP (Det какое-нибудь) (N письмо))))\n",
    "(S (NP (Det Этот) (NP (ADJ веселый) (N мальчик))) (VP (V идет))))\n",
    "(S (NP (NN Он)) (VP (V любит) (VP (V читать) (NP (Det всякие) (N книги)))))"
   ]
  },
  {
   "cell_type": "markdown",
   "metadata": {},
   "source": [
    "Опишем разбор предложения \"Этот веселый мальчик идёт\" с помощью алгоритма Кока-Янгера-Касами:"
   ]
  },
  {
   "cell_type": "code",
   "execution_count": 30,
   "metadata": {},
   "outputs": [
    {
     "data": {
      "text/html": [
       "<div>\n",
       "<style scoped>\n",
       "    .dataframe tbody tr th:only-of-type {\n",
       "        vertical-align: middle;\n",
       "    }\n",
       "\n",
       "    .dataframe tbody tr th {\n",
       "        vertical-align: top;\n",
       "    }\n",
       "\n",
       "    .dataframe thead th {\n",
       "        text-align: right;\n",
       "    }\n",
       "</style>\n",
       "<table border=\"1\" class=\"dataframe\">\n",
       "  <thead>\n",
       "    <tr style=\"text-align: right;\">\n",
       "      <th></th>\n",
       "      <th>0</th>\n",
       "      <th>1</th>\n",
       "      <th>2</th>\n",
       "      <th>3</th>\n",
       "    </tr>\n",
       "  </thead>\n",
       "  <tbody>\n",
       "    <tr>\n",
       "      <th>0</th>\n",
       "      <td>S</td>\n",
       "      <td></td>\n",
       "      <td></td>\n",
       "      <td></td>\n",
       "    </tr>\n",
       "    <tr>\n",
       "      <th>1</th>\n",
       "      <td>NP</td>\n",
       "      <td></td>\n",
       "      <td></td>\n",
       "      <td>VP</td>\n",
       "    </tr>\n",
       "    <tr>\n",
       "      <th>2</th>\n",
       "      <td>Det</td>\n",
       "      <td>NP</td>\n",
       "      <td></td>\n",
       "      <td>VP</td>\n",
       "    </tr>\n",
       "    <tr>\n",
       "      <th>3</th>\n",
       "      <td>Det</td>\n",
       "      <td>ADJ</td>\n",
       "      <td>N</td>\n",
       "      <td>V</td>\n",
       "    </tr>\n",
       "    <tr>\n",
       "      <th>4</th>\n",
       "      <td>Этот</td>\n",
       "      <td>веселый</td>\n",
       "      <td>мальчик</td>\n",
       "      <td>идет</td>\n",
       "    </tr>\n",
       "  </tbody>\n",
       "</table>\n",
       "</div>"
      ],
      "text/plain": [
       "      0        1        2     3\n",
       "0     S                        \n",
       "1    NP                      VP\n",
       "2   Det       NP             VP\n",
       "3   Det      ADJ        N     V\n",
       "4  Этот  веселый  мальчик  идет"
      ]
     },
     "execution_count": 30,
     "metadata": {},
     "output_type": "execute_result"
    }
   ],
   "source": [
    "import pandas as pd\n",
    "data = [['S', '', '', ''], \n",
    "        ['NP', '', '', 'VP'], \n",
    "        ['Det', 'NP', '', 'VP'], \n",
    "        ['Det', 'ADJ', 'N', 'V'], \n",
    "        ['Этот', 'веселый', 'мальчик', 'идет']]\n",
    "pd.DataFrame(data)"
   ]
  },
  {
   "cell_type": "markdown",
   "metadata": {},
   "source": [
    "Правила сработали в такой последовательности:\n",
    "\n",
    "1 Det -> Этот, ADJ -> веселый, N -> мальчик, V -> идет\n",
    "2 NP -> ADJ N, VP -> V\n",
    "3 NP -> Det NP\n",
    "4 S -> NP VP"
   ]
  },
  {
   "cell_type": "markdown",
   "metadata": {},
   "source": [
    "Запустим систему:"
   ]
  },
  {
   "cell_type": "code",
   "execution_count": 1,
   "metadata": {
    "collapsed": true
   },
   "outputs": [],
   "source": [
    "import nltk"
   ]
  },
  {
   "cell_type": "code",
   "execution_count": 26,
   "metadata": {
    "collapsed": true
   },
   "outputs": [],
   "source": [
    "rules = \"\"\"\n",
    "    S -> NP VP | VP | N VP\n",
    "    NP -> Det N | ADJ N | NN | Det NP\n",
    "    VP -> V NP | V VP | V\n",
    "    Det -> 'Этот' | 'всякие' | 'мою' | 'какое-нибудь'\n",
    "    ADJ -> 'веселый'\n",
    "    N -> 'Вася' | 'книгу' | 'письмо' | 'мальчик' | 'книги'\n",
    "    NN -> 'Он'\n",
    "    V -> 'любит' | 'читать' | 'читает' | 'Напиши' | 'идет'\n",
    "\"\"\".split('\\n')"
   ]
  },
  {
   "cell_type": "code",
   "execution_count": 27,
   "metadata": {
    "collapsed": true
   },
   "outputs": [],
   "source": [
    "grammar = nltk.CFG.fromstring('\\n'.join(rules))\n",
    "cp = nltk.EarleyChartParser(grammar)"
   ]
  },
  {
   "cell_type": "code",
   "execution_count": 28,
   "metadata": {
    "collapsed": true
   },
   "outputs": [],
   "source": [
    "def print_parses(parser, sentence):\n",
    "    for tree in parser.parse(nltk.word_tokenize(sentence)):\n",
    "        print(tree, '\\n')"
   ]
  },
  {
   "cell_type": "markdown",
   "metadata": {},
   "source": [
    "Проверим действие системы на наших предложениях:"
   ]
  },
  {
   "cell_type": "code",
   "execution_count": 29,
   "metadata": {},
   "outputs": [
    {
     "name": "stdout",
     "output_type": "stream",
     "text": [
      "(S (N Вася) (VP (V читает) (NP (Det мою) (N книгу)))) \n",
      "\n",
      "(S (VP (V Напиши) (NP (Det какое-нибудь) (N письмо)))) \n",
      "\n",
      "(S (NP (Det Этот) (NP (ADJ веселый) (N мальчик))) (VP (V идет))) \n",
      "\n",
      "(S\n",
      "  (NP (NN Он))\n",
      "  (VP (V любит) (VP (V читать) (NP (Det всякие) (N книги))))) \n",
      "\n"
     ]
    }
   ],
   "source": [
    "sentences = [\"Вася читает мою книгу\", \"Напиши какое-нибудь письмо\", \"Этот веселый мальчик идет\", \"Он любит читать всякие книги\"]\n",
    "for sentence in sentences:\n",
    "    print_parses(cp, sentence)"
   ]
  },
  {
   "cell_type": "markdown",
   "metadata": {},
   "source": [
    "Опишем также возможную последовательность действий для работы с новыми словами. Так как все правила нашей грамматики на базовом уровне начинаются с определения части речи для слова, то, применив морфологический парсер типа pymorphy2 к новому тексту, для каждого разбора можно сопоставить стартовый элемент в нашей грамматике. Затем эти элементы будут связываться в структуру по правилам, которые необходимо полно описать."
   ]
  }
 ],
 "metadata": {
  "kernelspec": {
   "display_name": "Python 3",
   "language": "python",
   "name": "python3"
  },
  "language_info": {
   "codemirror_mode": {
    "name": "ipython",
    "version": 3
   },
   "file_extension": ".py",
   "mimetype": "text/x-python",
   "name": "python",
   "nbconvert_exporter": "python",
   "pygments_lexer": "ipython3",
   "version": "3.6.7"
  }
 },
 "nbformat": 4,
 "nbformat_minor": 2
}
